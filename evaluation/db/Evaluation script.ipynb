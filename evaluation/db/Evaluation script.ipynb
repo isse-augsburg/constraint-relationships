{
 "cells": [
  {
   "cell_type": "markdown",
   "metadata": {},
   "source": [
    "# Evaluation script for MiniBrass Evaluation results\n",
    "##  WCSP-Solver Comparison"
   ]
  },
  {
   "cell_type": "code",
   "execution_count": 5,
   "metadata": {
    "collapsed": false
   },
   "outputs": [
    {
     "name": "stdout",
     "output_type": "stream",
     "text": [
      "Populating the interactive namespace from numpy and matplotlib\n",
      "We tried 28 instances.\n"
     ]
    }
   ],
   "source": [
    "import sqlite3\n",
    "conn = sqlite3.connect('results.db')\n",
    "c = conn.cursor() \n",
    "%pylab inline\n",
    "readable = { \"NUMBERJACK\":\"Toulbar2\", \"GECODE\":\"Gecode\", \"OR_TOOLS\":\"OR-Tools\", \"CHOCO\":\"Choco\",\n",
    "            \"JACOP\":\"JaCoP\", \"G12\":\"G12\", \"GECODE_NAT\" : \"Native Gecode\"}\n",
    "\n",
    "readableProblems = { \"on-call-rostering\":\"On-Call Rostering\", \"mspsp\":\"MSPSP\", \"soft-queens\":\"Soft N-Queens\",\n",
    "                    \"talent-scheduling\":\"Talent Scheduling\", \"photo\":\"Photo Placement\"}\n",
    "from collections import defaultdict\n",
    "\n",
    "problemToInstance = defaultdict(list)\n",
    "c.execute(\"SELECT Problem, Count(Distinct Instance) as Instances FROM JobResult Group By Problem\")\n",
    "for row in c.fetchall():\n",
    "    problemToInstance[row[0]] = row[1]\n",
    "\n",
    "    \n",
    "c.execute(\"SELECT COUNT(*) FROM ( SELECT Distinct Instance FROM JobResult )\")\n",
    "res = c.fetchone()\n",
    "numberProblems = res[0]\n",
    "\n",
    "print \"We tried\", numberProblems, \"instances.\""
   ]
  },
  {
   "cell_type": "code",
   "execution_count": 2,
   "metadata": {
    "collapsed": false,
    "scrolled": false
   },
   "outputs": [
    {
     "name": "stdout",
     "output_type": "stream",
     "text": [
      "We tried 28 instances.\n",
      "\\begin{tabular*}{\\textwidth}{@{\\extracolsep{\\fill} }ld{1.5}cd{1.5}d{1.1}d{1.1}}\n",
      "\\toprule\n",
      "\\multicolumn{1}{c}{Solver} & \\multicolumn{1}{c}{Time (secs)} \n",
      "          & \\multicolumn{1}{c}{\\# Wins}\n",
      "          & \\multicolumn{1}{c}{Objective} \n",
      "          & \\multicolumn{1}{c}{\\% Solved} & \\multicolumn{1}{c}{\\% Optimal} \\\\\n",
      "\\midrule\n",
      "\\multicolumn{2}{l}{MSPSP (8 instances)  }   \\\\\n",
      "\\midrule\n",
      "   Gecode & 0.32 \\quad (1.00)& 8 & 2.50 \\quad (0.00) & 100.00 & 100.00 \\\\\n",
      "   G12 & 0.32 \\quad (1.01)& 0 & 2.50 \\quad (0.00) & 100.00 & 100.00 \\\\\n",
      "   OR-Tools & 0.33 \\quad (1.05)& 0 & 2.50 \\quad (0.00) & 100.00 & 100.00 \\\\\n",
      "   JaCoP & 0.52 \\quad (1.73)& 0 & 2.50 \\quad (0.00) & 100.00 & 100.00 \\\\\n",
      "   Choco & 0.70 \\quad (2.46)& 0 & 2.50 \\quad (0.00) & 100.00 & 100.00 \\\\\n",
      "   Toulbar2 & 312.56 \\quad (1052.07)& 0 & 29.13 \\quad (26.63) & 0.00 & 0.00 \\\\\n",
      "\\midrule\n",
      "\\multicolumn{2}{l}{On-Call Rostering (7 instances)  }   \\\\\n",
      "\\midrule\n",
      "   Toulbar2 & 40.73 \\quad (1.44)& 3 & 1.57 \\quad (0.00) & 100.00 & 100.00 \\\\\n",
      "   OR-Tools & 275.23 \\quad (5.55)& 2 & 3.71 \\quad (2.14) & 100.00 & 57.14 \\\\\n",
      "   Gecode & 275.23 \\quad (5.54)& 1 & 4.57 \\quad (3.00) & 100.00 & 57.14 \\\\\n",
      "   G12 & 276.36 \\quad (5.63)& 1 & 5.57 \\quad (4.00) & 100.00 & 57.14 \\\\\n",
      "   JaCoP & 276.63 \\quad (5.86)& 0 & 5.14 \\quad (3.57) & 100.00 & 57.14 \\\\\n",
      "   Choco & 276.72 \\quad (6.26)& 0 & 5.14 \\quad (3.57) & 100.00 & 57.14 \\\\\n",
      "\\midrule\n",
      "\\multicolumn{2}{l}{Photo Placement (3 instances)  }   \\\\\n",
      "\\midrule\n",
      "   Toulbar2 & 0.80 \\quad (1.11)& 0 & 13.33 \\quad (0.00) & 100.00 & 100.00 \\\\\n",
      "   Choco & 0.83 \\quad (1.21)& 2 & 25.00 \\quad (11.67) & 100.00 & 100.00 \\\\\n",
      "   OR-Tools & 1.49 \\quad (1.71)& 1 & 13.33 \\quad (0.00) & 100.00 & 100.00 \\\\\n",
      "   JaCoP & 3.18 \\quad (3.61)& 0 & 13.33 \\quad (0.00) & 100.00 & 100.00 \\\\\n",
      "   Gecode & 22.24 \\quad (21.62)& 0 & 13.33 \\quad (0.00) & 100.00 & 100.00 \\\\\n",
      "   G12 & 27.40 \\quad (29.62)& 0 & 13.33 \\quad (0.00) & 100.00 & 100.00 \\\\\n",
      "\\midrule\n",
      "\\multicolumn{2}{l}{Soft N-Queens (3 instances)  }   \\\\\n",
      "\\midrule\n",
      "   OR-Tools & 0.03 \\quad (1.00)& 3 & 0.33 \\quad (0.00) & 100.00 & 100.00 \\\\\n",
      "   Toulbar2 & 0.30 \\quad (10.43)& 0 & 0.33 \\quad (0.00) & 100.00 & 100.00 \\\\\n",
      "   Choco & 0.35 \\quad (12.54)& 0 & 0.33 \\quad (0.00) & 100.00 & 100.00 \\\\\n",
      "   JaCoP & 57.22 \\quad (1707.98)& 0 & 0.33 \\quad (0.00) & 100.00 & 100.00 \\\\\n",
      "   Gecode & 210.02 \\quad (6266.00)& 0 & 1.67 \\quad (1.33) & 100.00 & 66.67 \\\\\n",
      "   G12 & 210.02 \\quad (6266.14)& 0 & 1.67 \\quad (1.33) & 100.00 & 66.67 \\\\\n",
      "\\midrule\n",
      "\\multicolumn{2}{l}{Talent Scheduling (7 instances)  }   \\\\\n",
      "\\midrule\n",
      "   OR-Tools & 113.29 \\quad (1.01)& 3 & 12.29 \\quad (0.00) & 100.00 & 85.71 \\\\\n",
      "   JaCoP & 117.71 \\quad (1.84)& 0 & 12.29 \\quad (0.00) & 100.00 & 85.71 \\\\\n",
      "   Choco & 129.12 \\quad (3.27)& 1 & 12.29 \\quad (0.00) & 100.00 & 85.71 \\\\\n",
      "   Toulbar2 & 158.27 \\quad (60.70)& 0 & 28.43 \\quad (16.14) & 28.57 & 28.57 \\\\\n",
      "   Gecode & 183.29 \\quad (4.70)& 3 & 12.29 \\quad (0.00) & 100.00 & 85.71 \\\\\n",
      "   G12 & 194.91 \\quad (2.87)& 0 & 12.29 \\quad (0.00) & 100.00 & 85.71 \\\\\n",
      "\\bottomrule\n",
      "\\end{tabular*}\n"
     ]
    }
   ],
   "source": [
    "# now we do the solver comparison \n",
    "problemToInstance = defaultdict(list)\n",
    "c.execute(\"SELECT Problem, Count(Distinct Instance) as Instances FROM JobResult Group By Problem\")\n",
    "for row in c.fetchall():\n",
    "    problemToInstance[row[0]] = row[1]\n",
    "\n",
    "    \n",
    "c.execute(\"SELECT COUNT(*) FROM ( SELECT Distinct Instance FROM JobResult )\")\n",
    "res = c.fetchone()\n",
    "numberProblems = res[0]\n",
    "\n",
    "print \"We tried\", numberProblems, \"instances.\"\n",
    "\n",
    "scriptFile = open(\"query-native-solver-comparison-pure-views.sql\", 'r')\n",
    "script = scriptFile.read() \n",
    "scriptFile.close()\n",
    "c.executescript(script)\n",
    "conn.commit()\n",
    "\n",
    "scriptFile = open(\"query-native-solver-comparison-pure.sql\",'r')\n",
    "script = scriptFile.read() \n",
    "scriptFile.close()\n",
    "\n",
    "c.execute(script)\n",
    "\n",
    "currProblem = \"\"\n",
    "print \"\\\\begin{tabular*}{\\\\textwidth}{@{\\\\extracolsep{\\\\fill} }l\" + \\\n",
    " \"\".join([\"d{1.5}\"  for i in range(0,1)]) + \"cd{1.5}\" + \"\".join([\"d{1.1}\"  for i in range(0,2)]) + \"}\"\n",
    "print \"\\\\toprule\"\n",
    "print '''\\\\multicolumn{1}{c}{Solver} & \\multicolumn{1}{c}{Time (secs)} \n",
    "          & \\multicolumn{1}{c}{\\\\# Wins}\n",
    "          & \\multicolumn{1}{c}{Objective} \n",
    "          & \\multicolumn{1}{c}{\\% Solved} & \\multicolumn{1}{c}{\\% Optimal} \\\\\\\\'''\n",
    "for row in c.fetchall():\n",
    "    (problem, solverId, solverName, elapsed, elapsedSpan, relElapsed, \\\n",
    "     objective, relObjective, wins, solved, optimally) = row\n",
    "    if currProblem != problem:\n",
    "        #print \"Starting .... \", problem\n",
    "        currProblem = problem\n",
    "        print \"\\\\midrule\"\n",
    "        print \"\\\\multicolumn{2}{l}{\" + readableProblems[problem] + \" (\"+ str(problemToInstance[problem])  + \" instances)  }   \\\\\\\\\"\n",
    "        print \"\\\\midrule\"\n",
    "    print \"  \", readable[solverName], \"&\", '{0:.2f}'.format(elapsed),\\\n",
    "    \"\\\\quad (\"+'{0:.2f}'.format(relElapsed)+\")\" \"&\", '{0:.0f}'.format(wins),    \\\n",
    "     \"&\", '{0:.2f}'.format(objective), \"\\\\quad (\"+'{0:.2f}'.format(relObjective)+\")\", \"&\", \\\n",
    "    '{0:.2f}'.format(solved), \"&\",'{0:.2f}'.format(optimally), \"\\\\\\\\\"\n",
    "print \"\\\\bottomrule\"\n",
    "print \"\\\\end{tabular*}\""
   ]
  },
  {
   "cell_type": "markdown",
   "metadata": {},
   "source": [
    "## Native (weighted CSP) versus Smyth-based Model\n",
    "### Weighted / Smyth"
   ]
  },
  {
   "cell_type": "code",
   "execution_count": 2,
   "metadata": {
    "collapsed": false,
    "scrolled": true
   },
   "outputs": [
    {
     "name": "stdout",
     "output_type": "stream",
     "text": [
      "We tried 23 instances.\n",
      "\\begin{tabular*}{\\textwidth}{@{\\extracolsep{\\fill} }ld{1.1}d{1.1}d{1.1}d{1.1}d{1.1}}\n",
      "\\toprule\n",
      "\\multicolumn{1}{c}{Solver} & \\multicolumn{1}{c}{Time Smyth} \n",
      "          & \\multicolumn{1}{c}{Time Weighted} \n",
      "          & \\multicolumn{1}{c}{Time Toulbar2}\n",
      "          & \\multicolumn{1}{c}{Obj. Weights} & \\multicolumn{1}{c}{Obj. Smyth}   \\\\\n",
      "\\midrule\n",
      "\\multicolumn{2}{l}{MSPSP (6 instances)  }   \\\\\n",
      "\\midrule\n",
      "   Gecode & 12.74 & \\textbf{0}.\\textbf{34} & \\emph{-} & 2.67 & 5.50 \\\\\n",
      "   Native Gecode & 7.82 & \\textbf{0}.\\textbf{26} & \\emph{-} & 2.80 & 5.80 \\\\\n",
      "   JaCoP & 4.18 & \\textbf{0}.\\textbf{45} & \\emph{-} & 2.00 & 6.00 \\\\\n",
      "\\midrule\n",
      "\\multicolumn{2}{l}{On-Call Rostering (5 instances)  }   \\\\\n",
      "\\midrule\n",
      "   Gecode & 220.46 & \\textbf{133}.\\textbf{32} & \\emph{14.52} & 3.20 & 7.20 \\\\\n",
      "   Native Gecode & 192.50 & \\textbf{133}.\\textbf{32} & \\emph{14.52} & 3.20 & 25.20 \\\\\n",
      "   JaCoP & 194.06 & \\textbf{135}.\\textbf{28} & \\emph{14.52} & 3.20 & 26.80 \\\\\n",
      "\\midrule\n",
      "\\multicolumn{2}{l}{Photo Placement (3 instances)  }   \\\\\n",
      "\\midrule\n",
      "   Gecode & 6.69 & \\textbf{1}.\\textbf{03} & \\emph{0.68} & 13.00 & 13.00 \\\\\n",
      "   Native Gecode & \\textbf{9}.\\textbf{96} & 22.22 & \\emph{0.80} & 13.33 & 13.33 \\\\\n",
      "   JaCoP & 15.73 & \\textbf{3}.\\textbf{18} & \\emph{0.80} & 13.33 & 13.33 \\\\\n",
      "\\midrule\n",
      "\\multicolumn{2}{l}{Soft N-Queens (3 instances)  }   \\\\\n",
      "\\midrule\n",
      "   Gecode & \\textbf{3}.\\textbf{45} & 210.02 & \\emph{0.30} & 1.67 & 2.00 \\\\\n",
      "   Native Gecode & \\textbf{3}.\\textbf{49} & 210.02 & \\emph{0.30} & 1.67 & 1.33 \\\\\n",
      "   JaCoP & \\textbf{3}.\\textbf{94} & 57.22 & \\emph{0.30} & 0.33 & 1.00 \\\\\n",
      "\\midrule\n",
      "\\multicolumn{2}{l}{Talent Scheduling (6 instances)  }   \\\\\n",
      "\\midrule\n",
      "   Gecode & \\textbf{7}.\\textbf{78} & 158.94 & \\emph{-} & 12.50 & 14.25 \\\\\n",
      "   Native Gecode & \\textbf{13}.\\textbf{50} & 141.09 & \\emph{-} & 12.33 & 14.67 \\\\\n",
      "   JaCoP & \\textbf{15}.\\textbf{63} & 120.42 & \\emph{-} & 12.33 & 14.17 \\\\\n",
      "\\bottomrule\n",
      "\\end{tabular*}\n"
     ]
    }
   ],
   "source": [
    "\n",
    "\n",
    "scriptFile = open(\"query-native-vs-strictbab-overhead-views.sql\",'r')\n",
    "script = scriptFile.read() \n",
    "scriptFile.close()\n",
    "\n",
    "c.executescript(script)\n",
    "conn.commit()\n",
    "\n",
    "# now we do the solver comparison \n",
    "problemToInstance = defaultdict(list)\n",
    "c.execute(\"SELECT Problem, Count(Distinct Instance) as Instances FROM PvsNativeSummary Group By Problem\")\n",
    "for row in c.fetchall():\n",
    "    problemToInstance[row[0]] = row[1]\n",
    "\n",
    "    \n",
    "c.execute(\"SELECT COUNT(*) FROM ( SELECT Distinct Instance FROM PvsNativeSummary )\")\n",
    "res = c.fetchone()\n",
    "numberProblems = res[0]\n",
    "\n",
    "print \"We tried\", numberProblems, \"instances.\"\n",
    "\n",
    "scriptFile = open(\"query-native-vs-strictbab-overhead.sql\",'r')\n",
    "script = scriptFile.read() \n",
    "scriptFile.close()\n",
    "\n",
    "currProblem = \"\"\n",
    "print \"\\\\begin{tabular*}{\\\\textwidth}{@{\\\\extracolsep{\\\\fill} }l\" + \\\n",
    " \"\".join([\"d{1.1}\"  for i in range(0,5)]) + \"}\"\n",
    "print \"\\\\toprule\"\n",
    "print '''\\\\multicolumn{1}{c}{Solver} & \\multicolumn{1}{c}{Time Smyth} \n",
    "          & \\multicolumn{1}{c}{Time Weighted} \n",
    "          & \\multicolumn{1}{c}{Time Toulbar2}\n",
    "          & \\multicolumn{1}{c}{Obj. Weights} & \\multicolumn{1}{c}{Obj. Smyth}   \\\\\\\\'''\n",
    "\n",
    "c.execute(script)\n",
    "\n",
    "def boldify(floatStr):\n",
    "    split_num = floatStr.split('.')\n",
    "    return \"\\\\textbf{\" + split_num[0]+\"}.\\\\textbf{\"+split_num[1] + \"}\"\n",
    "\n",
    "\n",
    "for row in c.fetchall():\n",
    "    (problem, solverName, elapsedSmyth, elapsedWeights, absoluteOverhead, relOverhead, weightsObj, smythObj, elapsedTb) \\\n",
    "    = row\n",
    "    if currProblem != problem:\n",
    "        #print \"Starting .... \", problem\n",
    "        currProblem = problem\n",
    "        print \"\\\\midrule\"\n",
    "        print \"\\\\multicolumn{2}{l}{\" + readableProblems[problem] + \" (\"+ str(problemToInstance[problem])  + \" instances)  }   \\\\\\\\\"\n",
    "        print \"\\\\midrule\"\n",
    "    \n",
    "    if elapsedSmyth < elapsedWeights:\n",
    "        elapsedSmythText = boldify('{0:.2f}'.format(elapsedSmyth)) \n",
    "        elapsedWeightsText = '{0:.2f}'.format(elapsedWeights)\n",
    "    else:\n",
    "        elapsedWeightsText = boldify('{0:.2f}'.format(elapsedWeights)) \n",
    "        elapsedSmythText = '{0:.2f}'.format(elapsedSmyth)\n",
    "        \n",
    "    print \"  \", readable[solverName], \\\n",
    "    \"&\",  elapsedSmythText,\\\n",
    "    \"&\", elapsedWeightsText, \"&\", \\\n",
    "    \"\\\\emph{-}\" if (currProblem == \"mspsp\" or currProblem == \"talent-scheduling\") \\\n",
    "    else \"\\\\emph{\" + '{0:.2f}'.format(elapsedTb) + \"}\", \\\n",
    "    \"&\",    '{0:.2f}'.format(weightsObj), \"&\", '{0:.2f}'.format(smythObj), \"\\\\\\\\\"\n",
    "currProblem = \"\"\n",
    "\n",
    "print \"\\\\bottomrule\"\n",
    "print \"\\\\end{tabular*}\""
   ]
  },
  {
   "cell_type": "markdown",
   "metadata": {},
   "source": [
    "### Domination BaB - NonDom Bab"
   ]
  },
  {
   "cell_type": "code",
   "execution_count": 14,
   "metadata": {
    "collapsed": false,
    "scrolled": true
   },
   "outputs": [
    {
     "name": "stdout",
     "output_type": "stream",
     "text": [
      "\\begin{tabular*}{\\textwidth}{@{\\extracolsep{\\fill} }ld{1.1}d{1.1}d{1.1}d{1.1}}\n",
      "\\toprule\n",
      "\\multicolumn{1}{c}{Problem} & \\multicolumn{1}{c}{Time Non-Dominated BaB} \n",
      "          & \\multicolumn{1}{c}{Time Dominated BaB} \n",
      "          & \\multicolumn{1}{c}{Absolute Overhead}\n",
      "          & \\multicolumn{1}{c}{Relative Overhead}   \\\\\n",
      "\\midrule\n",
      "   MSPSP & \\textbf{7}.\\textbf{31} & 8.89 & -1.58 & 1.50 \\\\\n",
      "   On-Call Rostering & 329.44 & \\textbf{199}.\\textbf{21} & 130.23 & 1.82 \\\\\n",
      "   Photo Placement & 55.09 & \\textbf{7}.\\textbf{51} & 47.58 & 9.72 \\\\\n",
      "   Soft N-Queens & \\textbf{2}.\\textbf{24} & 3.65 & -1.41 & 1.91 \\\\\n",
      "   Talent Scheduling & 33.44 & \\textbf{12}.\\textbf{24} & 21.21 & 2.30 \\\\\n",
      "\\midrule\n",
      "\\emph{Overall} & 102.00 & \\textbf{57}.\\textbf{20} & 44.80 & 2.97 \\\\\n",
      "\\bottomrule\n",
      "\\end{tabular*}\n"
     ]
    }
   ],
   "source": [
    "\n",
    "\n",
    "scriptFile = open(\"query-dom-vs-nondom-views.sql\",'r')\n",
    "script = scriptFile.read() \n",
    "scriptFile.close()\n",
    "\n",
    "c.executescript(script)\n",
    "conn.commit()\n",
    "\n",
    "scriptFile = open(\"query-dom-vs-nondom-query.sql\",'r')\n",
    "script = scriptFile.read() \n",
    "scriptFile.close()\n",
    "\n",
    "currProblem = \"\"\n",
    "print \"\\\\begin{tabular*}{\\\\textwidth}{@{\\\\extracolsep{\\\\fill} }l\" + \\\n",
    " \"\".join([\"d{1.1}\"  for i in range(0,4)]) + \"}\"\n",
    "print \"\\\\toprule\"\n",
    "print '''\\\\multicolumn{1}{c}{Problem} & \\multicolumn{1}{c}{Time Non-Dominated BaB} \n",
    "          & \\multicolumn{1}{c}{Time Strict BaB} \n",
    "          & \\multicolumn{1}{c}{Absolute Overhead}\n",
    "          & \\multicolumn{1}{c}{Relative Overhead}   \\\\\\\\'''\n",
    "print \"\\\\midrule\"\n",
    "c.execute(script)\n",
    "\n",
    "def boldify(floatStr):\n",
    "    split_num = floatStr.split('.')\n",
    "    return \"\\\\textbf{\" + split_num[0]+\"}.\\\\textbf{\"+split_num[1] + \"}\"\n",
    "\n",
    "\n",
    "for row in c.fetchall():\n",
    "    (problem, nonDomElapsed, domElapsed, absoluteOverhead, relOverhead) = row\n",
    "    \n",
    "    if domElapsed < nonDomElapsed:\n",
    "        domElapsedText = boldify('{0:.2f}'.format(domElapsed)) \n",
    "        nonDomElapsedText = '{0:.2f}'.format(nonDomElapsed)\n",
    "    else:\n",
    "        nonDomElapsedText = boldify('{0:.2f}'.format(nonDomElapsed)) \n",
    "        domElapsedText = '{0:.2f}'.format(domElapsed)\n",
    "        \n",
    "    print \"  \", readableProblems[problem], \\\n",
    "    \"&\",  nonDomElapsedText,\\\n",
    "    \"&\", domElapsedText, \"&\", \\\n",
    "    '{0:.2f}'.format(absoluteOverhead), \\\n",
    "    \"&\", '{0:.2f}'.format(relOverhead), \"\\\\\\\\\"\n",
    "\n",
    "scriptFile = open(\"query-dom-vs-nondom-overall.sql\",'r')\n",
    "script = scriptFile.read() \n",
    "scriptFile.close()\n",
    "print \"\\\\midrule\"\n",
    "c.execute(script)\n",
    "for row in c.fetchall():\n",
    "    (problem, nonDomElapsed, domElapsed, absoluteOverhead, relOverhead) = row\n",
    "    \n",
    "    if domElapsed < nonDomElapsed:\n",
    "        domElapsedText = boldify('{0:.2f}'.format(domElapsed)) \n",
    "        nonDomElapsedText = '{0:.2f}'.format(nonDomElapsed)\n",
    "    else:\n",
    "        nonDomElapsedText = boldify('{0:.2f}'.format(nonDomElapsed)) \n",
    "        domElapsedText = '{0:.2f}'.format(domElapsed)\n",
    "        \n",
    "    print problem, \\\n",
    "    \"&\",  nonDomElapsedText,\\\n",
    "    \"&\", domElapsedText, \"&\", \\\n",
    "    '{0:.2f}'.format(absoluteOverhead), \\\n",
    "    \"&\", '{0:.2f}'.format(relOverhead), \"\\\\\\\\\"\n",
    "\n",
    "# query-dom-vs-nondom-overall.sql\n",
    "print \"\\\\bottomrule\"\n",
    "print \"\\\\end{tabular*}\""
   ]
  },
  {
   "cell_type": "markdown",
   "metadata": {},
   "source": [
    "## Most Important First "
   ]
  },
  {
   "cell_type": "code",
   "execution_count": 3,
   "metadata": {
    "collapsed": true
   },
   "outputs": [],
   "source": [
    "\n",
    "import matplotlib.pyplot as plt\n",
    "plt.rcParams['font.family'] = 'serif'\n",
    "plt.rcParams['font.serif'] = 'Ubuntu'\n",
    "plt.rcParams['font.monospace'] = 'Ubuntu Mono'\n",
    "plt.rcParams['font.size'] = 10\n",
    "plt.rcParams['axes.labelsize'] = 10\n",
    "plt.rcParams['axes.labelweight'] = 'bold'\n",
    "plt.rcParams['xtick.labelsize'] = 9\n",
    "plt.rcParams['ytick.labelsize'] = 9\n",
    "plt.rcParams['legend.fontsize'] = 10\n",
    "plt.rcParams['figure.titlesize'] = 12"
   ]
  },
  {
   "cell_type": "code",
   "execution_count": 28,
   "metadata": {
    "collapsed": false,
    "scrolled": true
   },
   "outputs": [
    {
     "name": "stdout",
     "output_type": "stream",
     "text": [
      "Over all 168 runs across solvers, problem instances and search types, the MIF heuristic led to a faster runtime in 73 cases (0.43 \\%) with the average runtime reduced by 6.22 seconds.\n",
      "[u'CHOCO', u'G12', u'GECODE', u'JACOP', u'NUMBERJACK', u'OR_TOOLS']\n",
      "28 instances are included in these averages.\n",
      "\\begin{tabular*}{\\textwidth}{@{\\extracolsep{\\fill} }ld{1.1}d{1.1}d{1.1}d{1.1}d{1.1}d{1.1}d{1.1}}\n",
      "\\toprule\n",
      " &  \\multicolumn{1}{c}{Choco} & \\multicolumn{1}{c}{G12} & \\multicolumn{1}{c}{Gecode} & \\multicolumn{1}{c}{JaCoP} & \\multicolumn{1}{c}{Toulbar2} & \\multicolumn{1}{c}{OR-Tools} \\\\\n",
      "\\midrule\n",
      "Instances &  28 & 28 & 28 & 28 & 28 & 28 \\\\\n",
      "Runtime difference &  -73.14 & -17.57 & -18.42 & 16.15 & 36.63 & 19.05 \\\\\n",
      "Ratio MIF wins &  0.64 & 0.32 & 0.29 & 0.46 & 0.57 & 0.32 \\\\\n",
      "\\bottomrule\n",
      "\\end{tabular*}\n"
     ]
    }
   ],
   "source": [
    "# first the views\n",
    "scriptFile = open(\"query-mif-comp.sql\",'r')\n",
    "script = scriptFile.read() \n",
    "c.executescript(script)\n",
    "conn.commit()\n",
    "scriptFile.close()\n",
    "\n",
    "# then the highest-level aggregation\n",
    "scriptFile = open(\"query-mif-comp-summary-couting.sql\",'r')\n",
    "script = scriptFile.read() \n",
    "scriptFile.close()\n",
    "\n",
    "c.execute(script)\n",
    "(avgDiff, sumMifWins, insts, ratio) = c.fetchone()\n",
    "\n",
    "print \"Over all\", insts, \"runs across solvers, problem instances and search types, the MIF heuristic \" \\\n",
    "\"led to a faster runtime in\", sumMifWins, \"cases\", \"(\"+'{0:.2f}'.format(ratio)+\" \\%) with the average runtime reduced by \"+ \\\n",
    "'{0:.2f}'.format(abs(avgDiff)) +\" seconds.\"\n",
    "\n",
    "scriptFile = open(\"query-mif-comp-solver.sql\",'r')\n",
    "script = scriptFile.read() \n",
    "scriptFile.close()\n",
    "\n",
    "c.execute(script)\n",
    "\n",
    "timeDiffs = defaultdict(list)\n",
    "mifElapseds = defaultdict(list)\n",
    "mifStds = defaultdict(list)\n",
    "normalElapseds = defaultdict(list)\n",
    "normalStds = defaultdict(list)\n",
    "mifWinss = defaultdict(list)\n",
    "instances = defaultdict(list)\n",
    "ratios = defaultdict(list)\n",
    "solvers = []\n",
    "\n",
    "for row in c.fetchall():\n",
    "    (solverName, mifElapsed, mifVar, normalElapsed, normalVar, timeDiff, mifWins, overall, ratio) = row\n",
    "    solvers += [solverName]\n",
    "    timeDiffs[solverName] = timeDiff\n",
    "    mifElapseds[solverName] = mifElapsed\n",
    "    mifStds[solverName] = np.sqrt(mifVar)\n",
    "    normalElapseds[solverName] = normalElapsed\n",
    "    normalStds[solverName] = np.sqrt(normalVar)\n",
    "    mifWinss[solverName] = mifWins\n",
    "    instances[solverName] = overall\n",
    "    ratios[solverName] = ratio\n",
    "    \n",
    "print solvers\n",
    "print overall, \"instances are included in these averages.\"\n",
    "print \"\\\\begin{tabular*}{\\\\textwidth}{@{\\\\extracolsep{\\\\fill} }l\" + \\\n",
    " \"\".join([\"d{1.1}\"  for s in [1]+solvers]) + \"}\"\n",
    "print \"\\\\toprule\"\n",
    "print \" & \", \" & \".join([\"\\\\multicolumn{1}{c}{\" + readable[s] +\"}\" for s in solvers]), \"\\\\\\\\\"\n",
    "print \"\\\\midrule\"\n",
    "print \"Instances & \", \" & \".join(['{0:.0f}'.format(instances[s]) for s in solvers]), \"\\\\\\\\\"\n",
    "print \"Runtime difference & \", \" & \".join(['{0:.2f}'.format(timeDiffs[s]) for s in solvers]), \"\\\\\\\\\"\n",
    "#print \"# MIF wins & \", \" & \".join(['{0:.2f}'.format(timeDiffs[s]) for s in solvers]), \"\\\\\\\\\"\n",
    "print \"Ratio MIF wins & \", \" & \".join(['{0:.2f}'.format(ratios[s]) for s in solvers]), \"\\\\\\\\\"\n",
    "#print \"Runtime difference & \", \" & \".join(['{0:.2f}'.format(timeDiffs[s]) for s in solvers]), \"\\\\\\\\\"\n",
    "print \"\\\\bottomrule\"\n",
    "print \"\\\\end{tabular*}\""
   ]
  },
  {
   "cell_type": "code",
   "execution_count": 30,
   "metadata": {
    "collapsed": false
   },
   "outputs": [
    {
     "name": "stdout",
     "output_type": "stream",
     "text": [
      "[28.647142857142853, 125.77785714285714, 121.18214285714285, 121.35285714285712, 175.8017857142857, 116.43928571428572]\n",
      "[87.550074767739261, 229.8720152972883, 232.45356625966554, 238.36563786180531, 223.24574936048731, 231.66373612459091]\n",
      "[101.785, 143.34714285714284, 139.60464285714286, 105.20178571428572, 139.17178571428573, 97.38607142857144]\n",
      "[215.17561071466386, 244.11789395490774, 243.53179854680965, 217.55128415179934, 182.15353716132623, 218.40091451174447]\n"
     ]
    },
    {
     "data": {
      "image/png": "[encoded data removed]",
      "text/plain": [
       "<matplotlib.figure.Figure at 0x7f750b8825d0>"
      ]
     },
     "metadata": {},
     "output_type": "display_data"
    }
   ],
   "source": [
    "\"\"\"\n",
    "Bar chart demo with pairs of bars grouped for easy comparison.\n",
    "\"\"\"\n",
    "import numpy as np\n",
    "isseorange = (1.0, 0.57647, 0.039216)\n",
    "#\\definecolor{issegrey}{RGB}{80,85,82}\n",
    "issegrey = (80.0 / 255, 85.0 / 255, 82.0 / 255)\n",
    "\n",
    "n_groups = len(solvers)\n",
    "\n",
    "means_mif = [mifElapseds[s] for s in solvers]\n",
    "std_mif = [mifStds[s] for s in solvers]\n",
    "print means_mif\n",
    "print std_mif \n",
    "\n",
    "means_nomif =  [normalElapseds[s] for s in solvers]\n",
    "std_nomif = [normalStds[s] for s in solvers]\n",
    "print means_nomif\n",
    "print std_nomif\n",
    "\n",
    "fig, ax = plt.subplots()\n",
    "\n",
    "index = np.arange(n_groups)\n",
    "bar_width = 0.23\n",
    "\n",
    "opacity = 0.9\n",
    "error_config = {'ecolor': '0.3'}\n",
    "plt.ylim([0,250])\n",
    "plt.xlim([0,6])\n",
    "rects1 = plt.bar(index, means_mif, bar_width,\n",
    "                 alpha=opacity,\n",
    "                 color=isseorange,\n",
    "                 error_kw=error_config,\n",
    "                 hatch=\"/\",\n",
    "                 label='MIF')\n",
    "\n",
    "rects2 = plt.bar(index + bar_width, means_nomif, bar_width,\n",
    "                 alpha=opacity,\n",
    "                 color=issegrey,\n",
    "                 hatch=\"\\\\\",\n",
    "                 error_kw=error_config,\n",
    "                 label='No-MIF')\n",
    "\n",
    "plt.xlabel('Solver')\n",
    "plt.ylabel('Avg. Runtimes (secs)')\n",
    "#plt.title('Runtimes by solver and heuristic')\n",
    "plt.xticks(index + bar_width , [ s if s != \"NUMBERJACK\" else \"TOULBAR2\"  for s in solvers])\n",
    "plt.legend()\n",
    "\n",
    "plt.tight_layout()\n",
    "\n",
    "plt.savefig('runtime-mif-solver.pdf', bbox_inches='tight')\n",
    "plt.show()"
   ]
  },
  {
   "cell_type": "code",
   "execution_count": 31,
   "metadata": {
    "collapsed": false
   },
   "outputs": [
    {
     "name": "stdout",
     "output_type": "stream",
     "text": [
      "[u'mspsp', u'on-call-rostering', u'photo', u'soft-queens', u'talent-scheduling']\n",
      "42 instances are included in these averages.\n",
      "\\begin{tabular*}{\\textwidth}{@{\\extracolsep{\\fill} }ld{1.1}d{1.1}d{1.1}d{1.1}d{1.1}d{1.1}}\n",
      "\\toprule\n",
      " &  \\multicolumn{1}{c}{MSPSP} & \\multicolumn{1}{c}{On-Call Rostering} & \\multicolumn{1}{c}{Photo Placement} & \\multicolumn{1}{c}{Soft N-Queens} & \\multicolumn{1}{c}{Talent Scheduling} \\\\\n",
      "\\midrule\n",
      "Instances &  48 & 42 & 18 & 18 & 42 \\\\\n",
      "Runtime difference &  -0.80 & -31.04 & 141.17 & -79.51 & -19.34 \\\\\n",
      "Ratio MIF wins &  0.42 & 0.55 & 0.06 & 0.56 & 0.45 \\\\\n",
      "\\bottomrule\n",
      "\\end{tabular*}\n"
     ]
    }
   ],
   "source": [
    "\n",
    "scriptFile = open(\"query-mif-comp-problems.sql\",'r')\n",
    "script = scriptFile.read() \n",
    "scriptFile.close()\n",
    "\n",
    "c.execute(script)\n",
    "\n",
    "timeDiffs = defaultdict(list)\n",
    "mifElapseds = defaultdict(list)\n",
    "mifStds = defaultdict(list)\n",
    "normalElapseds = defaultdict(list)\n",
    "normalStds = defaultdict(list)\n",
    "mifWinss = defaultdict(list)\n",
    "instances = defaultdict(list)\n",
    "ratios = defaultdict(list)\n",
    "problems = []\n",
    "\n",
    "for row in c.fetchall():\n",
    "    (problem,  mifElapsed, mifVar, normalElapsed, normalVar, timeDiff, mifWins, overall, ratio) = row\n",
    "    problems += [problem]\n",
    "    timeDiffs[problem] = timeDiff\n",
    "    mifElapseds[problem] = mifElapsed\n",
    "    mifStds[problem] = np.sqrt(mifVar)\n",
    "    normalElapseds[problem] = normalElapsed\n",
    "    normalStds[problem] = np.sqrt(normalVar)\n",
    "    mifWinss[problem] = mifWins\n",
    "    instances[problem] = overall\n",
    "    ratios[problem] = ratio\n",
    "    #print row\n",
    "    \n",
    "print problems\n",
    "print overall, \"instances are included in these averages.\"\n",
    "print \"\\\\begin{tabular*}{\\\\textwidth}{@{\\\\extracolsep{\\\\fill} }l\" + \\\n",
    " \"\".join([\"d{1.1}\"  for p in [1]+problems]) + \"}\"\n",
    "print \"\\\\toprule\"\n",
    "print \" & \", \" & \".join([\"\\\\multicolumn{1}{c}{\" + readableProblems[s] + \"}\" for s in problems]), \"\\\\\\\\\"\n",
    "print \"\\\\midrule\"\n",
    "print \"Instances & \", \" & \".join(['{0:.0f}'.format(instances[s]) for s in problems]), \"\\\\\\\\\"\n",
    "print \"Runtime difference & \", \" & \".join(['{0:.2f}'.format(timeDiffs[s]) for s in problems]), \"\\\\\\\\\"\n",
    "#print \"# MIF wins & \", \" & \".join(['{0:.2f}'.format(timeDiffs[s]) for s in solvers]), \"\\\\\\\\\"\n",
    "print \"Ratio MIF wins & \", \" & \".join(['{0:.2f}'.format(ratios[s]) for s in problems]), \"\\\\\\\\\"\n",
    "#print \"Runtime difference & \", \" & \".join(['{0:.2f}'.format(timeDiffs[s]) for s in solvers]), \"\\\\\\\\\"\n",
    "print \"\\\\bottomrule\"\n",
    "print \"\\\\end{tabular*}\""
   ]
  },
  {
   "cell_type": "code",
   "execution_count": 32,
   "metadata": {
    "collapsed": false
   },
   "outputs": [
    {
     "name": "stdout",
     "output_type": "stream",
     "text": [
      "[51.65791666666667, 205.77547619047618, 150.49333333333334, 0.14500000000000002, 130.09500000000003]\n",
      "[140.56127607972164, 273.44510582741049, 236.76263943733463, 0.14158821357098275, 224.02559400179513]\n",
      "[52.45666666666668, 236.81476190476198, 9.323333333333334, 79.65555555555555, 149.4319047619048]\n",
      "[142.63972943709928, 293.61324243716786, 19.268247340003594, 198.45954542207284, 212.1451750709775]\n"
     ]
    },
    {
     "data": {
      "image/png": "[encoded data removed]",
      "text/plain": [
       "<matplotlib.figure.Figure at 0x7f750b89af10>"
      ]
     },
     "metadata": {},
     "output_type": "display_data"
    }
   ],
   "source": [
    "\"\"\"\n",
    "Bar chart demo with pairs of bars grouped for easy comparison.\n",
    "\"\"\"\n",
    "import numpy as np\n",
    "isseorange = (1.0, 0.57647, 0.039216)\n",
    "#\\definecolor{issegrey}{RGB}{80,85,82}\n",
    "issegrey = (80.0 / 255, 85.0 / 255, 82.0 / 255)\n",
    "\n",
    "n_groups = len(problems)\n",
    "\n",
    "means_mif = [mifElapseds[p] for p in problems]\n",
    "std_mif = [mifStds[p] for p in problems]\n",
    "print means_mif\n",
    "print std_mif \n",
    "\n",
    "means_nomif =  [normalElapseds[p] for p in problems]\n",
    "std_nomif = [normalStds[p] for p in problems]\n",
    "print means_nomif\n",
    "print std_nomif\n",
    "\n",
    "fig, ax = plt.subplots()\n",
    "\n",
    "index = np.arange(n_groups)\n",
    "bar_width = 0.2\n",
    "\n",
    "opacity = 0.9\n",
    "error_config = {'ecolor': '0.3'}\n",
    "plt.ylim([0,250])\n",
    "plt.xlim([0,5])\n",
    "rects1 = plt.bar(index, means_mif, bar_width,\n",
    "                 alpha=opacity,\n",
    "                 color=isseorange,\n",
    "                 error_kw=error_config,\n",
    "                 hatch=\"/\",\n",
    "                 label='MIF')\n",
    "\n",
    "rects2 = plt.bar(index + bar_width, means_nomif, bar_width,\n",
    "                 alpha=opacity,\n",
    "                 color=issegrey,\n",
    "                 hatch=\"\\\\\",\n",
    "                 error_kw=error_config,\n",
    "                 label='No-MIF')\n",
    "\n",
    "plt.xlabel('Problem')\n",
    "plt.ylabel('Avg. Runtimes (secs)')\n",
    "#plt.title('Runtimes by problem and heuristic')\n",
    "plt.xticks(index + bar_width , [p for p in problems])\n",
    "plt.legend()\n",
    "\n",
    "plt.tight_layout()\n",
    "\n",
    "plt.savefig('runtime-mif-problem.pdf', bbox_inches='tight')\n",
    "plt.show()"
   ]
  },
  {
   "cell_type": "code",
   "execution_count": 11,
   "metadata": {
    "collapsed": true
   },
   "outputs": [],
   "source": [
    "\n",
    "conn.close()"
   ]
  },
  {
   "cell_type": "code",
   "execution_count": 17,
   "metadata": {
    "collapsed": false
   },
   "outputs": [
    {
     "name": "stdout",
     "output_type": "stream",
     "text": [
      "['d{}', 'd{}', 'd{}', 'd{}', 'd{}']\n"
     ]
    }
   ],
   "source": [
    "print [\"d{}\"  for i in range(0,5)]"
   ]
  },
  {
   "cell_type": "code",
   "execution_count": 20,
   "metadata": {
    "collapsed": false
   },
   "outputs": [
    {
     "name": "stdout",
     "output_type": "stream",
     "text": [
      "\\textbf{3}.\\textbf{15}\n"
     ]
    }
   ],
   "source": [
    "\n",
    "print boldify(\"3.15\")"
   ]
  },
  {
   "cell_type": "code",
   "execution_count": null,
   "metadata": {
    "collapsed": true
   },
   "outputs": [],
   "source": []
  }
 ],
 "metadata": {
  "kernelspec": {
   "display_name": "Python 2",
   "language": "python",
   "name": "python2"
  },
  "language_info": {
   "codemirror_mode": {
    "name": "ipython",
    "version": 2
   },
   "file_extension": ".py",
   "mimetype": "text/x-python",
   "name": "python",
   "nbconvert_exporter": "python",
   "pygments_lexer": "ipython2",
   "version": "2.7.11"
  }
 },
 "nbformat": 4,
 "nbformat_minor": 0
}
