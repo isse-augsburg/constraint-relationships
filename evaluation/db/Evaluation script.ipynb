{
 "cells": [
  {
   "cell_type": "markdown",
   "metadata": {},
   "source": [
    "# Evaluation script for MiniBrass Evaluation results\n",
    "##  WCSP-Solver Comparison"
   ]
  },
  {
   "cell_type": "code",
   "execution_count": 12,
   "metadata": {
    "collapsed": false
   },
   "outputs": [
    {
     "name": "stdout",
     "output_type": "stream",
     "text": [
      "We tried 28 instances.\n"
     ]
    }
   ],
   "source": [
    "import sqlite3\n",
    "conn = sqlite3.connect('results.db')\n",
    "c = conn.cursor() \n",
    "\n",
    "readable = { \"NUMBERJACK\":\"Toulbar2\", \"GECODE\":\"Gecode\", \"OR_TOOLS\":\"OR-Tools\", \"CHOCO\":\"Choco\",\n",
    "            \"JACOP\":\"JaCoP\", \"G12\":\"G12\", \"GECODE_NAT\" : \"Native Gecode\"}\n",
    "\n",
    "readableProblems = { \"on-call-rostering\":\"On-Call Rostering\", \"mspsp\":\"MSPSP\", \"soft-queens\":\"Soft N-Queens\",\n",
    "                    \"talent-scheduling\":\"Talent Scheduling\", \"photo\":\"Photo Placement\"}\n",
    "from collections import defaultdict\n",
    "\n",
    "problemToInstance = defaultdict(list)\n",
    "c.execute(\"SELECT Problem, Count(Distinct Instance) as Instances FROM JobResult Group By Problem\")\n",
    "for row in c.fetchall():\n",
    "    problemToInstance[row[0]] = row[1]\n",
    "\n",
    "    \n",
    "c.execute(\"SELECT COUNT(*) FROM ( SELECT Distinct Instance FROM JobResult )\")\n",
    "res = c.fetchone()\n",
    "numberProblems = res[0]\n",
    "\n",
    "print \"We tried\", numberProblems, \"instances.\""
   ]
  },
  {
   "cell_type": "code",
   "execution_count": 11,
   "metadata": {
    "collapsed": false,
    "scrolled": false
   },
   "outputs": [
    {
     "name": "stdout",
     "output_type": "stream",
     "text": [
      "We tried 28 instances.\n",
      "\\begin{tabular*}{\\textwidth}{@{\\extracolsep{\\fill} }ld{1.5}cd{1.5}d{1.1}d{1.1}}\n",
      "\\toprule\n",
      "\\multicolumn{1}{c}{Solver} & \\multicolumn{1}{c}{Time (secs)} \n",
      "          & \\multicolumn{1}{c}{\\# Wins}\n",
      "          & \\multicolumn{1}{c}{Objective} \n",
      "          & \\multicolumn{1}{c}{\\% Solved} & \\multicolumn{1}{c}{\\% Optimal} \\\\\n",
      "\\midrule\n",
      "\\multicolumn{2}{l}{MSPSP (8 instances)  }   \\\\\n",
      "\\midrule\n",
      "   Gecode & 0.32 \\quad (1.00)& 8 & 2.50 \\quad (0.00) & 100.00 & 100.00 \\\\\n",
      "   G12 & 0.32 \\quad (1.01)& 0 & 2.50 \\quad (0.00) & 100.00 & 100.00 \\\\\n",
      "   OR-Tools & 0.33 \\quad (1.05)& 0 & 2.50 \\quad (0.00) & 100.00 & 100.00 \\\\\n",
      "   JaCoP & 0.52 \\quad (1.73)& 0 & 2.50 \\quad (0.00) & 100.00 & 100.00 \\\\\n",
      "   Choco & 0.70 \\quad (2.46)& 0 & 2.50 \\quad (0.00) & 100.00 & 100.00 \\\\\n",
      "   Toulbar2 & 312.56 \\quad (1052.07)& 0 & 29.13 \\quad (26.63) & 0.00 & 0.00 \\\\\n",
      "\\midrule\n",
      "\\multicolumn{2}{l}{On-Call Rostering (7 instances)  }   \\\\\n",
      "\\midrule\n",
      "   Toulbar2 & 40.73 \\quad (1.44)& 3 & 1.57 \\quad (0.00) & 100.00 & 100.00 \\\\\n",
      "   OR-Tools & 275.23 \\quad (5.55)& 2 & 3.71 \\quad (2.14) & 100.00 & 57.14 \\\\\n",
      "   Gecode & 275.23 \\quad (5.54)& 1 & 4.57 \\quad (3.00) & 100.00 & 57.14 \\\\\n",
      "   G12 & 276.36 \\quad (5.63)& 1 & 5.57 \\quad (4.00) & 100.00 & 57.14 \\\\\n",
      "   JaCoP & 276.63 \\quad (5.86)& 0 & 5.14 \\quad (3.57) & 100.00 & 57.14 \\\\\n",
      "   Choco & 276.72 \\quad (6.26)& 0 & 5.14 \\quad (3.57) & 100.00 & 57.14 \\\\\n",
      "\\midrule\n",
      "\\multicolumn{2}{l}{Photo Placement (3 instances)  }   \\\\\n",
      "\\midrule\n",
      "   Toulbar2 & 0.80 \\quad (1.11)& 0 & 13.33 \\quad (0.00) & 100.00 & 100.00 \\\\\n",
      "   Choco & 0.83 \\quad (1.21)& 2 & 25.00 \\quad (11.67) & 100.00 & 100.00 \\\\\n",
      "   OR-Tools & 1.49 \\quad (1.71)& 1 & 13.33 \\quad (0.00) & 100.00 & 100.00 \\\\\n",
      "   JaCoP & 3.18 \\quad (3.61)& 0 & 13.33 \\quad (0.00) & 100.00 & 100.00 \\\\\n",
      "   Gecode & 22.24 \\quad (21.62)& 0 & 13.33 \\quad (0.00) & 100.00 & 100.00 \\\\\n",
      "   G12 & 27.40 \\quad (29.62)& 0 & 13.33 \\quad (0.00) & 100.00 & 100.00 \\\\\n",
      "\\midrule\n",
      "\\multicolumn{2}{l}{Soft N-Queens (3 instances)  }   \\\\\n",
      "\\midrule\n",
      "   OR-Tools & 0.03 \\quad (1.00)& 3 & 0.33 \\quad (0.00) & 100.00 & 100.00 \\\\\n",
      "   Toulbar2 & 0.30 \\quad (10.43)& 0 & 0.33 \\quad (0.00) & 100.00 & 100.00 \\\\\n",
      "   Choco & 0.35 \\quad (12.54)& 0 & 0.33 \\quad (0.00) & 100.00 & 100.00 \\\\\n",
      "   JaCoP & 57.22 \\quad (1707.98)& 0 & 0.33 \\quad (0.00) & 100.00 & 100.00 \\\\\n",
      "   Gecode & 210.02 \\quad (6266.00)& 0 & 1.67 \\quad (1.33) & 100.00 & 66.67 \\\\\n",
      "   G12 & 210.02 \\quad (6266.14)& 0 & 1.67 \\quad (1.33) & 100.00 & 66.67 \\\\\n",
      "\\midrule\n",
      "\\multicolumn{2}{l}{Talent Scheduling (7 instances)  }   \\\\\n",
      "\\midrule\n",
      "   OR-Tools & 113.29 \\quad (1.01)& 3 & 12.29 \\quad (0.00) & 100.00 & 85.71 \\\\\n",
      "   JaCoP & 117.71 \\quad (1.84)& 0 & 12.29 \\quad (0.00) & 100.00 & 85.71 \\\\\n",
      "   Choco & 129.12 \\quad (3.27)& 1 & 12.29 \\quad (0.00) & 100.00 & 85.71 \\\\\n",
      "   Toulbar2 & 158.27 \\quad (60.70)& 0 & 28.43 \\quad (16.14) & 28.57 & 28.57 \\\\\n",
      "   Gecode & 183.29 \\quad (4.70)& 3 & 12.29 \\quad (0.00) & 100.00 & 85.71 \\\\\n",
      "   G12 & 194.91 \\quad (2.87)& 0 & 12.29 \\quad (0.00) & 100.00 & 85.71 \\\\\n",
      "\\bottomrule\n",
      "\\end{tabular*}\n"
     ]
    }
   ],
   "source": [
    "# now we do the solver comparison \n",
    "problemToInstance = defaultdict(list)\n",
    "c.execute(\"SELECT Problem, Count(Distinct Instance) as Instances FROM JobResult Group By Problem\")\n",
    "for row in c.fetchall():\n",
    "    problemToInstance[row[0]] = row[1]\n",
    "\n",
    "    \n",
    "c.execute(\"SELECT COUNT(*) FROM ( SELECT Distinct Instance FROM JobResult )\")\n",
    "res = c.fetchone()\n",
    "numberProblems = res[0]\n",
    "\n",
    "print \"We tried\", numberProblems, \"instances.\"\n",
    "\n",
    "scriptFile = open(\"query-native-solver-comparison-pure-views.sql\", 'r')\n",
    "script = scriptFile.read() \n",
    "scriptFile.close()\n",
    "c.executescript(script)\n",
    "conn.commit()\n",
    "\n",
    "scriptFile = open(\"query-native-solver-comparison-pure.sql\",'r')\n",
    "script = scriptFile.read() \n",
    "scriptFile.close()\n",
    "\n",
    "c.execute(script)\n",
    "\n",
    "currProblem = \"\"\n",
    "print \"\\\\begin{tabular*}{\\\\textwidth}{@{\\\\extracolsep{\\\\fill} }l\" + \\\n",
    " \"\".join([\"d{1.5}\"  for i in range(0,1)]) + \"cd{1.5}\" + \"\".join([\"d{1.1}\"  for i in range(0,2)]) + \"}\"\n",
    "print \"\\\\toprule\"\n",
    "print '''\\\\multicolumn{1}{c}{Solver} & \\multicolumn{1}{c}{Time (secs)} \n",
    "          & \\multicolumn{1}{c}{\\\\# Wins}\n",
    "          & \\multicolumn{1}{c}{Objective} \n",
    "          & \\multicolumn{1}{c}{\\% Solved} & \\multicolumn{1}{c}{\\% Optimal} \\\\\\\\'''\n",
    "for row in c.fetchall():\n",
    "    (problem, solverId, solverName, elapsed, elapsedSpan, relElapsed, \\\n",
    "     objective, relObjective, wins, solved, optimally) = row\n",
    "    if currProblem != problem:\n",
    "        #print \"Starting .... \", problem\n",
    "        currProblem = problem\n",
    "        print \"\\\\midrule\"\n",
    "        print \"\\\\multicolumn{2}{l}{\" + readableProblems[problem] + \" (\"+ str(problemToInstance[problem])  + \" instances)  }   \\\\\\\\\"\n",
    "        print \"\\\\midrule\"\n",
    "    print \"  \", readable[solverName], \"&\", '{0:.2f}'.format(elapsed),\\\n",
    "    \"\\\\quad (\"+'{0:.2f}'.format(relElapsed)+\")\" \"&\", '{0:.0f}'.format(wins),    \\\n",
    "     \"&\", '{0:.2f}'.format(objective), \"\\\\quad (\"+'{0:.2f}'.format(relObjective)+\")\", \"&\", \\\n",
    "    '{0:.2f}'.format(solved), \"&\",'{0:.2f}'.format(optimally), \"\\\\\\\\\"\n",
    "print \"\\\\bottomrule\"\n",
    "print \"\\\\end{tabular*}\""
   ]
  },
  {
   "cell_type": "markdown",
   "metadata": {},
   "source": [
    "## Native (weighted CSP) versus Smyth-based Model"
   ]
  },
  {
   "cell_type": "code",
   "execution_count": 21,
   "metadata": {
    "collapsed": false,
    "scrolled": true
   },
   "outputs": [
    {
     "name": "stdout",
     "output_type": "stream",
     "text": [
      "We tried 23 instances.\n",
      "\\begin{tabular*}{\\textwidth}{@{\\extracolsep{\\fill} }ld{1.1}d{1.1}d{1.1}d{1.1}d{1.1}}\n",
      "\\toprule\n",
      "\\multicolumn{1}{c}{Solver} & \\multicolumn{1}{c}{Time Smyth} \n",
      "          & \\multicolumn{1}{c}{Time Weighted} \n",
      "          & \\multicolumn{1}{c}{Time Toulbar2}\n",
      "          & \\multicolumn{1}{c}{Obj. Weights} & \\multicolumn{1}{c}{Obj. Smyth}   \\\\\n",
      "\\midrule\n",
      "\\multicolumn{2}{l}{MSPSP (6 instances)  }   \\\\\n",
      "\\midrule\n",
      "   Gecode & 12.74 & \\textbf{0}.\\textbf{34} & \\emph{-} & 2.67 & 5.50 \\\\\n",
      "   Native Gecode & 7.82 & \\textbf{0}.\\textbf{26} & \\emph{-} & 2.80 & 5.80 \\\\\n",
      "   JaCoP & 4.18 & \\textbf{0}.\\textbf{45} & \\emph{-} & 2.00 & 6.00 \\\\\n",
      "\\midrule\n",
      "\\multicolumn{2}{l}{On-Call Rostering (5 instances)  }   \\\\\n",
      "\\midrule\n",
      "   Gecode & 220.46 & \\textbf{133}.\\textbf{32} & \\emph{14.52} & 3.20 & 7.20 \\\\\n",
      "   Native Gecode & 192.50 & \\textbf{133}.\\textbf{32} & \\emph{14.52} & 3.20 & 25.20 \\\\\n",
      "   JaCoP & 194.06 & \\textbf{135}.\\textbf{28} & \\emph{14.52} & 3.20 & 26.80 \\\\\n",
      "\\midrule\n",
      "\\multicolumn{2}{l}{Photo Placement (3 instances)  }   \\\\\n",
      "\\midrule\n",
      "   Gecode & 6.69 & \\textbf{1}.\\textbf{03} & \\emph{0.68} & 13.00 & 13.00 \\\\\n",
      "   Native Gecode & \\textbf{9}.\\textbf{96} & 22.22 & \\emph{0.80} & 13.33 & 13.33 \\\\\n",
      "   JaCoP & 15.73 & \\textbf{3}.\\textbf{18} & \\emph{0.80} & 13.33 & 13.33 \\\\\n",
      "\\midrule\n",
      "\\multicolumn{2}{l}{Soft N-Queens (3 instances)  }   \\\\\n",
      "\\midrule\n",
      "   Gecode & \\textbf{3}.\\textbf{45} & 210.02 & \\emph{0.30} & 1.67 & 2.00 \\\\\n",
      "   Native Gecode & \\textbf{3}.\\textbf{49} & 210.02 & \\emph{0.30} & 1.67 & 1.33 \\\\\n",
      "   JaCoP & \\textbf{3}.\\textbf{94} & 57.22 & \\emph{0.30} & 0.33 & 1.00 \\\\\n",
      "\\midrule\n",
      "\\multicolumn{2}{l}{Talent Scheduling (6 instances)  }   \\\\\n",
      "\\midrule\n",
      "   Gecode & \\textbf{7}.\\textbf{78} & 158.94 & \\emph{-} & 12.50 & 14.25 \\\\\n",
      "   Native Gecode & \\textbf{13}.\\textbf{50} & 141.09 & \\emph{-} & 12.33 & 14.67 \\\\\n",
      "   JaCoP & \\textbf{15}.\\textbf{63} & 120.42 & \\emph{-} & 12.33 & 14.17 \\\\\n",
      "\\bottomrule\n",
      "\\end{tabular*}\n"
     ]
    }
   ],
   "source": [
    "\n",
    "\n",
    "scriptFile = open(\"query-native-vs-strictbab-overhead-views.sql\",'r')\n",
    "script = scriptFile.read() \n",
    "scriptFile.close()\n",
    "\n",
    "c.executescript(script)\n",
    "conn.commit()\n",
    "\n",
    "# now we do the solver comparison \n",
    "problemToInstance = defaultdict(list)\n",
    "c.execute(\"SELECT Problem, Count(Distinct Instance) as Instances FROM PvsNativeSummary Group By Problem\")\n",
    "for row in c.fetchall():\n",
    "    problemToInstance[row[0]] = row[1]\n",
    "\n",
    "    \n",
    "c.execute(\"SELECT COUNT(*) FROM ( SELECT Distinct Instance FROM PvsNativeSummary )\")\n",
    "res = c.fetchone()\n",
    "numberProblems = res[0]\n",
    "\n",
    "print \"We tried\", numberProblems, \"instances.\"\n",
    "\n",
    "scriptFile = open(\"query-native-vs-strictbab-overhead.sql\",'r')\n",
    "script = scriptFile.read() \n",
    "scriptFile.close()\n",
    "\n",
    "currProblem = \"\"\n",
    "print \"\\\\begin{tabular*}{\\\\textwidth}{@{\\\\extracolsep{\\\\fill} }l\" + \\\n",
    " \"\".join([\"d{1.1}\"  for i in range(0,5)]) + \"}\"\n",
    "print \"\\\\toprule\"\n",
    "print '''\\\\multicolumn{1}{c}{Solver} & \\multicolumn{1}{c}{Time Smyth} \n",
    "          & \\multicolumn{1}{c}{Time Weighted} \n",
    "          & \\multicolumn{1}{c}{Time Toulbar2}\n",
    "          & \\multicolumn{1}{c}{Obj. Weights} & \\multicolumn{1}{c}{Obj. Smyth}   \\\\\\\\'''\n",
    "\n",
    "c.execute(script)\n",
    "\n",
    "def boldify(floatStr):\n",
    "    split_num = floatStr.split('.')\n",
    "    return \"\\\\textbf{\" + split_num[0]+\"}.\\\\textbf{\"+split_num[1] + \"}\"\n",
    "\n",
    "\n",
    "for row in c.fetchall():\n",
    "    (problem, solverName, elapsedSmyth, elapsedWeights, absoluteOverhead, relOverhead, weightsObj, smythObj, elapsedTb) \\\n",
    "    = row\n",
    "    if currProblem != problem:\n",
    "        #print \"Starting .... \", problem\n",
    "        currProblem = problem\n",
    "        print \"\\\\midrule\"\n",
    "        print \"\\\\multicolumn{2}{l}{\" + readableProblems[problem] + \" (\"+ str(problemToInstance[problem])  + \" instances)  }   \\\\\\\\\"\n",
    "        print \"\\\\midrule\"\n",
    "    \n",
    "    if elapsedSmyth < elapsedWeights:\n",
    "        elapsedSmythText = boldify('{0:.2f}'.format(elapsedSmyth)) \n",
    "        elapsedWeightsText = '{0:.2f}'.format(elapsedWeights)\n",
    "    else:\n",
    "        elapsedWeightsText = boldify('{0:.2f}'.format(elapsedWeights)) \n",
    "        elapsedSmythText = '{0:.2f}'.format(elapsedSmyth)\n",
    "        \n",
    "    print \"  \", readable[solverName], \\\n",
    "    \"&\",  elapsedSmythText,\\\n",
    "    \"&\", elapsedWeightsText, \"&\", \\\n",
    "    \"\\\\emph{-}\" if (currProblem == \"mspsp\" or currProblem == \"talent-scheduling\") \\\n",
    "    else \"\\\\emph{\" + '{0:.2f}'.format(elapsedTb) + \"}\", \\\n",
    "    \"&\",    '{0:.2f}'.format(weightsObj), \"&\", '{0:.2f}'.format(smythObj), \"\\\\\\\\\"\n",
    "currProblem = \"\"\n",
    "\n",
    "print \"\\\\bottomrule\"\n",
    "print \"\\\\end{tabular*}\""
   ]
  },
  {
   "cell_type": "markdown",
   "metadata": {},
   "source": [
    "## Most Important First "
   ]
  },
  {
   "cell_type": "code",
   "execution_count": 13,
   "metadata": {
    "collapsed": false
   },
   "outputs": [
    {
     "name": "stdout",
     "output_type": "stream",
     "text": [
      "Over all 168 runs across solvers, problem instances and search types, the MIF heuristic led to a faster runtime in 73 cases (0.43 \\%) with the average runtime reduced by 6.22 seconds.\n",
      "\\begin{tabular*}{\\textwidth}{@{\\extracolsep{\\fill} }ld{1.1}d{1.1}d{1.1}d{1.1}d{1.1}}\n",
      "\\toprule\n",
      "\\multicolumn{1}{c}{Solver} & \\multicolumn{1}{c}{Time Smyth} \n",
      "          & \\multicolumn{1}{c}{Time Weighted} \n",
      "          & \\multicolumn{1}{c}{Time Toulbar2}\n",
      "          & \\multicolumn{1}{c}{Obj. Weights} & \\multicolumn{1}{c}{Obj. Smyth}   \\\\\n",
      "(u'CHOCO', -73.13785714285714, 18, 28, 0.6428571428571429)\n",
      "(u'G12', -17.569285714285716, 9, 28, 0.32142857142857145)\n",
      "(u'GECODE', -18.422500000000003, 8, 28, 0.2857142857142857)\n",
      "(u'JACOP', 16.15107142857143, 13, 28, 0.4642857142857143)\n",
      "(u'NUMBERJACK', 36.63, 16, 28, 0.5714285714285714)\n",
      "(u'OR_TOOLS', 19.053214285714283, 9, 28, 0.32142857142857145)\n",
      "\\bottomrule\n",
      "\\end{tabular*}\n"
     ]
    }
   ],
   "source": [
    "# first the views\n",
    "scriptFile = open(\"query-mif-comp.sql\",'r')\n",
    "script = scriptFile.read() \n",
    "c.executescript(script)\n",
    "conn.commit()\n",
    "scriptFile.close()\n",
    "\n",
    "# then the highest-level aggregation\n",
    "scriptFile = open(\"query-mif-comp-summary-couting.sql\",'r')\n",
    "script = scriptFile.read() \n",
    "scriptFile.close()\n",
    "\n",
    "c.execute(script)\n",
    "(avgDiff, sumMifWins, insts, ratio) = c.fetchone()\n",
    "\n",
    "print \"Over all\", insts, \"runs across solvers, problem instances and search types, the MIF heuristic \" \\\n",
    "\"led to a faster runtime in\", sumMifWins, \"cases\", \"(\"+'{0:.2f}'.format(ratio)+\" \\%) with the average runtime reduced by \"+ \\\n",
    "'{0:.2f}'.format(abs(avgDiff)) +\" seconds.\"\n",
    "\n",
    "scriptFile = open(\"query-mif-comp-solver.sql\",'r')\n",
    "script = scriptFile.read() \n",
    "scriptFile.close()\n",
    "\n",
    "currProblem = \"\"\n",
    "print \"\\\\begin{tabular*}{\\\\textwidth}{@{\\\\extracolsep{\\\\fill} }l\" + \\\n",
    " \"\".join([\"d{1.1}\"  for i in range(0,5)]) + \"}\"\n",
    "print \"\\\\toprule\"\n",
    "print '''\\\\multicolumn{1}{c}{Solver} & \\multicolumn{1}{c}{Time Smyth} \n",
    "          & \\multicolumn{1}{c}{Time Weighted} \n",
    "          & \\multicolumn{1}{c}{Time Toulbar2}\n",
    "          & \\multicolumn{1}{c}{Obj. Weights} & \\multicolumn{1}{c}{Obj. Smyth}   \\\\\\\\'''\n",
    "\n",
    "c.execute(script)\n",
    "\n",
    "for row in c.fetchall():\n",
    "    print row\n",
    "\n",
    "print \"\\\\bottomrule\"\n",
    "print \"\\\\end{tabular*}\""
   ]
  },
  {
   "cell_type": "code",
   "execution_count": 11,
   "metadata": {
    "collapsed": true
   },
   "outputs": [],
   "source": [
    "\n",
    "conn.close()"
   ]
  },
  {
   "cell_type": "code",
   "execution_count": 17,
   "metadata": {
    "collapsed": false
   },
   "outputs": [
    {
     "name": "stdout",
     "output_type": "stream",
     "text": [
      "['d{}', 'd{}', 'd{}', 'd{}', 'd{}']\n"
     ]
    }
   ],
   "source": [
    "print [\"d{}\"  for i in range(0,5)]"
   ]
  },
  {
   "cell_type": "code",
   "execution_count": 20,
   "metadata": {
    "collapsed": false
   },
   "outputs": [
    {
     "name": "stdout",
     "output_type": "stream",
     "text": [
      "\\textbf{3}.\\textbf{15}\n"
     ]
    }
   ],
   "source": [
    "\n",
    "print boldify(\"3.15\")"
   ]
  },
  {
   "cell_type": "code",
   "execution_count": null,
   "metadata": {
    "collapsed": true
   },
   "outputs": [],
   "source": []
  }
 ],
 "metadata": {
  "kernelspec": {
   "display_name": "Python 2",
   "language": "python",
   "name": "python2"
  },
  "language_info": {
   "codemirror_mode": {
    "name": "ipython",
    "version": 2
   },
   "file_extension": ".py",
   "mimetype": "text/x-python",
   "name": "python",
   "nbconvert_exporter": "python",
   "pygments_lexer": "ipython2",
   "version": "2.7.11"
  }
 },
 "nbformat": 4,
 "nbformat_minor": 0
}
